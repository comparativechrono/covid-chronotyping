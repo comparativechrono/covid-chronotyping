{
  "cells": [
    {
      "cell_type": "markdown",
      "metadata": {
        "id": "view-in-github",
        "colab_type": "text"
      },
      "source": [
        "<a href=\"https://colab.research.google.com/github/comparativechrono/covid-chronotyping/blob/main/rhesusnegative/Covid_association.ipynb\" target=\"_parent\"><img src=\"https://colab.research.google.com/assets/colab-badge.svg\" alt=\"Open In Colab\"/></a>"
      ]
    },
    {
      "cell_type": "markdown",
      "source": [
        "# Variant enrichment in 100K Covid-19 frequent release data using Fishers exact test\n",
        "\n",
        "## Comparative chronomics group \n",
        "### October 2022"
      ],
      "metadata": {
        "id": "_hCj_cG2MxuI"
      },
      "id": "_hCj_cG2MxuI"
    },
    {
      "cell_type": "code",
      "source": [
        "# Install tidyverse if you have not got it installed\n",
        "\n",
        "install.packages(\"tidyverse\")"
      ],
      "metadata": {
        "id": "eZCC_lJC1xPs",
        "colab": {
          "base_uri": "https://localhost:8080/"
        },
        "outputId": "91ab0f56-5564-4069-8f96-9f6635f35102"
      },
      "execution_count": null,
      "outputs": [
        {
          "output_type": "stream",
          "name": "stderr",
          "text": [
            "Installing package into ‘/usr/local/lib/R/site-library’\n",
            "(as ‘lib’ is unspecified)\n",
            "\n"
          ]
        }
      ],
      "id": "eZCC_lJC1xPs"
    },
    {
      "cell_type": "code",
      "source": [
        "# Run tidyverse library\n",
        "\n",
        "library(tidyverse)"
      ],
      "metadata": {
        "id": "DShSFB9UMUCi",
        "colab": {
          "base_uri": "https://localhost:8080/"
        },
        "outputId": "cbf9a0fa-ba67-4f04-a15b-692290307528"
      },
      "execution_count": null,
      "outputs": [
        {
          "output_type": "stream",
          "name": "stderr",
          "text": [
            "Warning message in system(\"timedatectl\", intern = TRUE):\n",
            "“running command 'timedatectl' had status 1”\n",
            "── \u001b[1mAttaching packages\u001b[22m ─────────────────────────────────────── tidyverse 1.3.1 ──\n",
            "\n",
            "\u001b[32m✔\u001b[39m \u001b[34mggplot2\u001b[39m 3.3.5     \u001b[32m✔\u001b[39m \u001b[34mpurrr  \u001b[39m 0.3.4\n",
            "\u001b[32m✔\u001b[39m \u001b[34mtibble \u001b[39m 3.1.6     \u001b[32m✔\u001b[39m \u001b[34mdplyr  \u001b[39m 1.0.7\n",
            "\u001b[32m✔\u001b[39m \u001b[34mtidyr  \u001b[39m 1.1.4     \u001b[32m✔\u001b[39m \u001b[34mstringr\u001b[39m 1.4.0\n",
            "\u001b[32m✔\u001b[39m \u001b[34mreadr  \u001b[39m 2.1.1     \u001b[32m✔\u001b[39m \u001b[34mforcats\u001b[39m 0.5.1\n",
            "\n",
            "── \u001b[1mConflicts\u001b[22m ────────────────────────────────────────── tidyverse_conflicts() ──\n",
            "\u001b[31m✖\u001b[39m \u001b[34mdplyr\u001b[39m::\u001b[32mfilter()\u001b[39m masks \u001b[34mstats\u001b[39m::filter()\n",
            "\u001b[31m✖\u001b[39m \u001b[34mdplyr\u001b[39m::\u001b[32mlag()\u001b[39m    masks \u001b[34mstats\u001b[39m::lag()\n",
            "\n"
          ]
        }
      ],
      "id": "DShSFB9UMUCi"
    },
    {
      "cell_type": "markdown",
      "source": [
        "# 1. Import data\n",
        "We have downloaded and exported the PER3 VNTR chronotype alleles of the May 2020, August 2020 and April 2021 Genomics England data releases. The dataset consisted of the people who had been tested for covid, whether they were positive or negative, and whether they were hospitalised when they were tested. To explore the hypothesis that having a morning chronotype makes you more susceptible to catching the disease and having acute comparison we can perform some enrichment analysis. The dataset represents participants in the 100,000 genomes project (100KGP), so the control for the data is the chronotyping of the entire 100KGP.\n"
      ],
      "metadata": {
        "id": "snDkAPlycvU9"
      },
      "id": "snDkAPlycvU9"
    },
    {
      "cell_type": "markdown",
      "source": [
        "First we will need to import our dataset for the analysis. IYou will need to replace the placeholder, shown in the example below, for each dataset. If there was an association we would expect to see it in the earlier releases. As of Dec 2021 1 in 6 people have officially had Covid-19, making the earlier datasets more likely to have greater power at picking genetic associations up."
      ],
      "metadata": {
        "id": "IILoo7ECDuk3"
      },
      "id": "IILoo7ECDuk3"
    },
    {
      "cell_type": "code",
      "source": [
        "your_name <- read.table(\"[insert file name]]\", sep = \"\\t\", header = TRUE)"
      ],
      "metadata": {
        "id": "Nda-A3-d1or7"
      },
      "execution_count": null,
      "outputs": [],
      "id": "Nda-A3-d1or7"
    },
    {
      "cell_type": "code",
      "source": [
        "head(your_name)"
      ],
      "metadata": {
        "colab": {
          "base_uri": "https://localhost:8080/",
          "height": 224
        },
        "id": "sMZ7l77NdfjN",
        "outputId": "c4b58761-25dc-4736-beb4-b8ca702925c7"
      },
      "execution_count": null,
      "outputs": [
        {
          "output_type": "display_data",
          "data": {
            "text/plain": [
              "  group                V1 V2    V3  V4   \n",
              "1 Positive_vs_100K     72 18481 178 50893\n",
              "2 acute_vs_100K        58 18495 126 50945\n",
              "3 acute_vs_nonacute    58    14 126    52\n",
              "4 covid+ve_vs_covid-ve 72   534 178  1384"
            ],
            "text/latex": "A data.frame: 4 × 5\n\\begin{tabular}{r|lllll}\n  & group & V1 & V2 & V3 & V4\\\\\n  & <chr> & <int> & <int> & <int> & <int>\\\\\n\\hline\n\t1 & Positive\\_vs\\_100K     & 72 & 18481 & 178 & 50893\\\\\n\t2 & acute\\_vs\\_100K        & 58 & 18495 & 126 & 50945\\\\\n\t3 & acute\\_vs\\_nonacute    & 58 &    14 & 126 &    52\\\\\n\t4 & covid+ve\\_vs\\_covid-ve & 72 &   534 & 178 &  1384\\\\\n\\end{tabular}\n",
            "text/markdown": "\nA data.frame: 4 × 5\n\n| <!--/--> | group &lt;chr&gt; | V1 &lt;int&gt; | V2 &lt;int&gt; | V3 &lt;int&gt; | V4 &lt;int&gt; |\n|---|---|---|---|---|---|\n| 1 | Positive_vs_100K     | 72 | 18481 | 178 | 50893 |\n| 2 | acute_vs_100K        | 58 | 18495 | 126 | 50945 |\n| 3 | acute_vs_nonacute    | 58 |    14 | 126 |    52 |\n| 4 | covid+ve_vs_covid-ve | 72 |   534 | 178 |  1384 |\n\n",
            "text/html": [
              "<table class=\"dataframe\">\n",
              "<caption>A data.frame: 4 × 5</caption>\n",
              "<thead>\n",
              "\t<tr><th></th><th scope=col>group</th><th scope=col>V1</th><th scope=col>V2</th><th scope=col>V3</th><th scope=col>V4</th></tr>\n",
              "\t<tr><th></th><th scope=col>&lt;chr&gt;</th><th scope=col>&lt;int&gt;</th><th scope=col>&lt;int&gt;</th><th scope=col>&lt;int&gt;</th><th scope=col>&lt;int&gt;</th></tr>\n",
              "</thead>\n",
              "<tbody>\n",
              "\t<tr><th scope=row>1</th><td>Positive_vs_100K    </td><td>72</td><td>18481</td><td>178</td><td>50893</td></tr>\n",
              "\t<tr><th scope=row>2</th><td>acute_vs_100K       </td><td>58</td><td>18495</td><td>126</td><td>50945</td></tr>\n",
              "\t<tr><th scope=row>3</th><td>acute_vs_nonacute   </td><td>58</td><td>   14</td><td>126</td><td>   52</td></tr>\n",
              "\t<tr><th scope=row>4</th><td>covid+ve_vs_covid-ve</td><td>72</td><td>  534</td><td>178</td><td> 1384</td></tr>\n",
              "</tbody>\n",
              "</table>\n"
            ]
          },
          "metadata": {}
        }
      ],
      "id": "sMZ7l77NdfjN"
    },
    {
      "cell_type": "markdown",
      "source": [
        "The data you have imported are as a csv file. This file is in matrix format. Each row is a seperate 2x2 contingency table, in the format i,j. This is matrix nomenclature, essentially it means that each row needs to be split into a matrix to make a 2x2 table with the numbers first filling rows in the first columns, and then the second. The marker column is the particular chronotype marker identified in Jones et Al. These are dbSNP ID's.\n",
        "\n",
        "This is shown below with an example from the first line of file 1A."
      ],
      "metadata": {
        "id": "XREGAMhvI5k3"
      },
      "id": "XREGAMhvI5k3"
    },
    {
      "cell_type": "code",
      "source": [
        "test <- c(1015,2707,56102,95796)\n",
        "matrix(unlist(test), nrow = 2)"
      ],
      "metadata": {
        "colab": {
          "base_uri": "https://localhost:8080/",
          "height": 114
        },
        "id": "UOtBPM2zgV6z",
        "outputId": "afef3f72-8d7a-4323-d356-6cd2e495b33e"
      },
      "execution_count": null,
      "outputs": [
        {
          "output_type": "display_data",
          "data": {
            "text/plain": [
              "     [,1] [,2] \n",
              "[1,] 1015 56102\n",
              "[2,] 2707 95796"
            ],
            "text/latex": "A matrix: 2 × 2 of type dbl\n\\begin{tabular}{ll}\n\t 1015 & 56102\\\\\n\t 2707 & 95796\\\\\n\\end{tabular}\n",
            "text/markdown": "\nA matrix: 2 × 2 of type dbl\n\n| 1015 | 56102 |\n| 2707 | 95796 |\n\n",
            "text/html": [
              "<table class=\"dataframe\">\n",
              "<caption>A matrix: 2 × 2 of type dbl</caption>\n",
              "<tbody>\n",
              "\t<tr><td>1015</td><td>56102</td></tr>\n",
              "\t<tr><td>2707</td><td>95796</td></tr>\n",
              "</tbody>\n",
              "</table>\n"
            ]
          },
          "metadata": {}
        }
      ],
      "id": "UOtBPM2zgV6z"
    },
    {
      "cell_type": "markdown",
      "source": [
        "So in our contingency table the columns represent people who have taken tests in the 100K, versus those who had not, and the rows represent alleles."
      ],
      "metadata": {
        "id": "TamUIs7zhI5r"
      },
      "id": "TamUIs7zhI5r"
    },
    {
      "cell_type": "markdown",
      "source": [
        "# 2. An example enrichment analysis"
      ],
      "metadata": {
        "id": "m-yY9gT37mWT"
      },
      "id": "m-yY9gT37mWT"
    },
    {
      "cell_type": "markdown",
      "source": [
        "To analyse this data there are a number of approaches, the simplest is to use Fisher's exact test. The code cells below run Fishers against each of the 2x2 tables encoded in the csv files. The second code cell saves the results of the Fishers to an output file. Remember to change the name of the output file for the dataset comparison you are working on.\n",
        "\n",
        "*The example analysis is just shown here for one of of datasets, you will need to repeat it for each of the CSV files, changing the names of the input files, and the name of the output files.*"
      ],
      "metadata": {
        "id": "wSjxoy5k7qhk"
      },
      "id": "wSjxoy5k7qhk"
    },
    {
      "cell_type": "code",
      "source": [
        "# Make list from csv file and run Fishers\n",
        "analysis  <- your_name %>% \n",
        "  setNames(c(\"group\", \"V1\",\"V2\",\"V3\",\"V4\")) %>% \n",
        "  nest(-group) %>% \n",
        "  mutate(matrix = map(data, ~matrix(unlist(.x), nrow = 2))) %>% \n",
        "  mutate(fisher = map(matrix, ~fisher.test(.x))) %>% \n",
        "  mutate(stats = map(fisher, ~broom::glance(.x)))"
      ],
      "metadata": {
        "colab": {
          "base_uri": "https://localhost:8080/"
        },
        "id": "N6t82X_d2CEi",
        "outputId": "e1e92913-6f22-4c74-e311-964279046f5a"
      },
      "execution_count": null,
      "outputs": [
        {
          "output_type": "stream",
          "name": "stderr",
          "text": [
            "Warning message:\n",
            "“All elements of `...` must be named.\n",
            "Did you want `data = c(V1, V2, V3, V4)`?”\n"
          ]
        }
      ],
      "id": "N6t82X_d2CEi"
    },
    {
      "cell_type": "code",
      "source": [
        "# Extract p value and odds ratio and write out to results file\n",
        "analysis %>% \n",
        "  unnest(stats) %>%\n",
        "  select(group, p.value, odds = estimate) %>% \n",
        "  write.csv(\"2A_fishers_results.csv\")\n",
        "\n",
        "## You can now download and open the file Fishers_results.csv in excel ##"
      ],
      "metadata": {
        "id": "qSOtB3YTas4t"
      },
      "execution_count": null,
      "outputs": [],
      "id": "qSOtB3YTas4t"
    },
    {
      "cell_type": "markdown",
      "source": [
        "If you do not know what p values and odds ratios are make sure you have a good read! You should ensure you understand what Fishers exact test is doing, and consider the structure of the 2x2 example table we looked at above."
      ],
      "metadata": {
        "id": "tfyNVHR2D9gB"
      },
      "id": "tfyNVHR2D9gB"
    },
    {
      "cell_type": "markdown",
      "source": [
        "The toy code below takes our theoretical contingency table above and runs it through Fishers, using the fisher.test function. Note the full output you are given. The code above extracts the p value and odds ratio for you from this output."
      ],
      "metadata": {
        "id": "nVCbnC_DFQ5L"
      },
      "id": "nVCbnC_DFQ5L"
    },
    {
      "cell_type": "code",
      "source": [
        "testcont <- matrix(unlist(test), nrow = 2)\n",
        "fisher.test(testcont)\n"
      ],
      "metadata": {
        "id": "2JQdyv5NihYh",
        "outputId": "adbd263e-b01e-42c0-cd2a-bf49edad75c6",
        "colab": {
          "base_uri": "https://localhost:8080/",
          "height": 208
        }
      },
      "id": "2JQdyv5NihYh",
      "execution_count": null,
      "outputs": [
        {
          "output_type": "display_data",
          "data": {
            "text/plain": [
              "\n",
              "\tFisher's Exact Test for Count Data\n",
              "\n",
              "data:  testcont\n",
              "p-value < 2.2e-16\n",
              "alternative hypothesis: true odds ratio is not equal to 1\n",
              "95 percent confidence interval:\n",
              " 0.5946564 0.6889285\n",
              "sample estimates:\n",
              "odds ratio \n",
              "  0.640248 \n"
            ]
          },
          "metadata": {}
        }
      ]
    },
    {
      "cell_type": "markdown",
      "source": [
        "# 3. Make some graphs"
      ],
      "metadata": {
        "id": "3s5YicRf7z_j"
      },
      "id": "3s5YicRf7z_j"
    },
    {
      "cell_type": "code",
      "source": [
        "# If you prefer to work in R then this is the following type of analysis to do:\n",
        "results <- analysis %>% \n",
        "  unnest(stats) %>%\n",
        "  select(group, p.value, odds = estimate)"
      ],
      "metadata": {
        "id": "T5ipisRQyFkA"
      },
      "execution_count": null,
      "outputs": [],
      "id": "T5ipisRQyFkA"
    },
    {
      "cell_type": "code",
      "source": [
        "head(results)"
      ],
      "metadata": {
        "colab": {
          "base_uri": "https://localhost:8080/",
          "height": 224
        },
        "id": "X8HmUvBDyaZP",
        "outputId": "a3e63b51-6b6f-4c65-d68a-f92ed2380431"
      },
      "execution_count": null,
      "outputs": [
        {
          "output_type": "display_data",
          "data": {
            "text/plain": [
              "  group                p.value   odds    \n",
              "1 Positive_vs_100K     0.4313402 1.113885\n",
              "2 acute_vs_100K        0.1336393 1.267971\n",
              "3 acute_vs_nonacute    0.1533268 1.706277\n",
              "4 covid+ve_vs_covid-ve 0.7645578 1.048329"
            ],
            "text/latex": "A tibble: 4 × 3\n\\begin{tabular}{lll}\n group & p.value & odds\\\\\n <chr> & <dbl> & <dbl>\\\\\n\\hline\n\t Positive\\_vs\\_100K     & 0.4313402 & 1.113885\\\\\n\t acute\\_vs\\_100K        & 0.1336393 & 1.267971\\\\\n\t acute\\_vs\\_nonacute    & 0.1533268 & 1.706277\\\\\n\t covid+ve\\_vs\\_covid-ve & 0.7645578 & 1.048329\\\\\n\\end{tabular}\n",
            "text/markdown": "\nA tibble: 4 × 3\n\n| group &lt;chr&gt; | p.value &lt;dbl&gt; | odds &lt;dbl&gt; |\n|---|---|---|\n| Positive_vs_100K     | 0.4313402 | 1.113885 |\n| acute_vs_100K        | 0.1336393 | 1.267971 |\n| acute_vs_nonacute    | 0.1533268 | 1.706277 |\n| covid+ve_vs_covid-ve | 0.7645578 | 1.048329 |\n\n",
            "text/html": [
              "<table class=\"dataframe\">\n",
              "<caption>A tibble: 4 × 3</caption>\n",
              "<thead>\n",
              "\t<tr><th scope=col>group</th><th scope=col>p.value</th><th scope=col>odds</th></tr>\n",
              "\t<tr><th scope=col>&lt;chr&gt;</th><th scope=col>&lt;dbl&gt;</th><th scope=col>&lt;dbl&gt;</th></tr>\n",
              "</thead>\n",
              "<tbody>\n",
              "\t<tr><td>Positive_vs_100K    </td><td>0.4313402</td><td>1.113885</td></tr>\n",
              "\t<tr><td>acute_vs_100K       </td><td>0.1336393</td><td>1.267971</td></tr>\n",
              "\t<tr><td>acute_vs_nonacute   </td><td>0.1533268</td><td>1.706277</td></tr>\n",
              "\t<tr><td>covid+ve_vs_covid-ve</td><td>0.7645578</td><td>1.048329</td></tr>\n",
              "</tbody>\n",
              "</table>\n"
            ]
          },
          "metadata": {}
        }
      ],
      "id": "X8HmUvBDyaZP"
    },
    {
      "cell_type": "markdown",
      "source": [
        "There are a number of analyses that can be performed. The first is to graph the data in different ways, and see what it is telling us. Below are two basic graphs, you could consider making nicer ones in ggplot."
      ],
      "metadata": {
        "id": "vOE0SmWG2PkF"
      },
      "id": "vOE0SmWG2PkF"
    },
    {
      "cell_type": "code",
      "source": [
        "# plot of -log of p value\n",
        "\n",
        "# calculate the -l0g10 p value for plotting\n",
        "y <- -log10(results$p.value)\n",
        "\n",
        "## make a plot of the -log10 p vale\n",
        "plot(as.factor(results$group), y, type = \"p\", xaxt='n', xlab = \"chronotype marker\", ylab = \"-log10 p value\")\n",
        "# this threshold is set for multiple hypothesis testing for all the variants in the genome\n",
        "threshold <- y > -log10(0.05/324000000)\n",
        "## add a line for the threhold for clarity\n",
        "abline(h = -log10(0.05/324000000), col = 'coral2', lwd = 1)\n",
        "points(as.factor(results$group)[threshold], y[threshold], col=\"coral2\")\n",
        "text(as.factor(results$group), y, labels = results$group, pos = 4)"
      ],
      "metadata": {
        "colab": {
          "base_uri": "https://localhost:8080/",
          "height": 437
        },
        "id": "OQgfCY_e22RP",
        "outputId": "578542d7-0c86-4a50-9e6c-3f7c1c75d02a"
      },
      "execution_count": null,
      "outputs": [
        {
          "output_type": "display_data",
          "data": {
            "image/png": "[encoded data removed]",
            "text/plain": [
              "plot without title"
            ]
          },
          "metadata": {
            "image/png": {
              "width": 420,
              "height": 420
            }
          }
        }
      ],
      "id": "OQgfCY_e22RP"
    },
    {
      "cell_type": "code",
      "source": [
        "# volcano plot\n",
        "\n",
        "plot(results$odds, y, type = \"p\", xlab = \"odds\", ylab = \"-log10 p value\")\n",
        "# this threshold is set for multiple hypothesis testing for all the variants in the genome - change as appropriate\n",
        "threshold <- y > -log10(0.05/324000000)\n",
        "## add a line for the threhold for clarity\n",
        "abline(h = -log10(0.05/324000000), col = 'coral2', lwd = 1)\n",
        "points(results$odds[threshold], y[threshold], col=\"coral2\")\n",
        "text(results$odds, y, labels = results$group, pos = 4)"
      ],
      "metadata": {
        "colab": {
          "base_uri": "https://localhost:8080/",
          "height": 437
        },
        "id": "o0bK1xRT6Jw1",
        "outputId": "b572ab90-32bc-40fb-9584-49cee41be14b"
      },
      "execution_count": null,
      "outputs": [
        {
          "output_type": "display_data",
          "data": {
            "image/png": "[encoded data removed]",
            "text/plain": [
              "plot without title"
            ]
          },
          "metadata": {
            "image/png": {
              "width": 420,
              "height": 420
            }
          }
        }
      ],
      "id": "o0bK1xRT6Jw1"
    }
  ],
  "metadata": {
    "kernelspec": {
      "display_name": "R",
      "language": "R",
      "name": "ir"
    },
    "language_info": {
      "codemirror_mode": "r",
      "file_extension": ".r",
      "mimetype": "text/x-r-source",
      "name": "R",
      "pygments_lexer": "r",
      "version": "3.5.1"
    },
    "colab": {
      "name": "Covid_chronotyping_PER3_VNTR.ipynb",
      "provenance": [],
      "collapsed_sections": [],
      "include_colab_link": true
    }
  },
  "nbformat": 4,
  "nbformat_minor": 5
}