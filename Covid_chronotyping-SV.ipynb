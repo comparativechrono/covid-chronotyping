{
  "cells": [
    {
      "cell_type": "markdown",
      "metadata": {
        "id": "view-in-github",
        "colab_type": "text"
      },
      "source": [
        "<a href=\"https://colab.research.google.com/github/comparativechrono/covid-chronotyping/blob/main/Covid_chronotyping-SV.ipynb\" target=\"_parent\"><img src=\"https://colab.research.google.com/assets/colab-badge.svg\" alt=\"Open In Colab\"/></a>"
      ]
    },
    {
      "cell_type": "markdown",
      "source": [
        "# Running Fishers exact test on Covid chronotyping data"
      ],
      "metadata": {
        "id": "NaWh0YgPh1vm"
      },
      "id": "NaWh0YgPh1vm"
    },
    {
      "cell_type": "markdown",
      "source": [
        "Import the data into R"
      ],
      "metadata": {
        "id": "snDkAPlycvU9"
      },
      "id": "snDkAPlycvU9"
    },
    {
      "cell_type": "code",
      "source": [
        "per3posvs100k <- read.table(\"per3cont.txt\", sep = \"\\t\", header = TRUE, row.names = 1)"
      ],
      "metadata": {
        "id": "VprSc-gYEprq"
      },
      "execution_count": 2,
      "outputs": [],
      "id": "VprSc-gYEprq"
    },
    {
      "cell_type": "markdown",
      "source": [
        "Run Fishers exact test"
      ],
      "metadata": {
        "id": "RXPHhyRsh83S"
      },
      "id": "RXPHhyRsh83S"
    },
    {
      "cell_type": "code",
      "source": [
        "fisher.test(per3posvs100k)"
      ],
      "metadata": {
        "id": "2JQdyv5NihYh",
        "outputId": "18b010fd-24ae-4c68-bbe8-4b04d1a1ce0d",
        "colab": {
          "base_uri": "https://localhost:8080/",
          "height": 208
        }
      },
      "id": "2JQdyv5NihYh",
      "execution_count": 3,
      "outputs": [
        {
          "output_type": "display_data",
          "data": {
            "text/plain": [
              "\n",
              "\tFisher's Exact Test for Count Data\n",
              "\n",
              "data:  per3posvs100k\n",
              "p-value = 5.681e-06\n",
              "alternative hypothesis: true odds ratio is not equal to 1\n",
              "95 percent confidence interval:\n",
              " 0.6589104 0.8525078\n",
              "sample estimates:\n",
              "odds ratio \n",
              " 0.7504039 \n"
            ]
          },
          "metadata": {}
        }
      ]
    }
  ],
  "metadata": {
    "kernelspec": {
      "display_name": "R",
      "language": "R",
      "name": "ir"
    },
    "language_info": {
      "codemirror_mode": "r",
      "file_extension": ".r",
      "mimetype": "text/x-r-source",
      "name": "R",
      "pygments_lexer": "r",
      "version": "3.5.1"
    },
    "colab": {
      "name": "Covid_chronotyping.ipynb",
      "provenance": [],
      "collapsed_sections": [],
      "include_colab_link": true
    }
  },
  "nbformat": 4,
  "nbformat_minor": 5
}